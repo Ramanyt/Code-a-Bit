{
 "cells": [
  {
   "cell_type": "code",
   "execution_count": 1,
   "metadata": {},
   "outputs": [],
   "source": [
    "import pandas as pd\n",
    "import numpy as np\n",
    "import matplotlib.pyplot as plt"
   ]
  }
 ],
 "metadata": {
  "kernelspec": {
   "display_name": "Python 3",
   "language": "python",
   "name": "python3"
  },
  "language_info": {
   "codemirror_mode": {
    "name": "ipython",
    "version": 3
   },
   "file_extension": ".py",
   "mimetype": "text/x-python",
   "name": "python",
   "nbconvert_exporter": "python",
   "pygments_lexer": "ipython3",
   "version": "3.7.6"
  }
 },
 "nbformat": 4,
 "nbformat_minor": 4
}
plt.figure()
plt.plot(df.index, df_developed.mean(axis=1), label='Developed Countries')
plt.plot(df.index, df_undeveloped.mean(axis=1), label='Developing Countries')
plt.xlabel('Date')
plt.ylabel('Mean Ratio')
plt.title('Difference in the Value of US$ between Developed and Developing Countries')
plt.legend();
